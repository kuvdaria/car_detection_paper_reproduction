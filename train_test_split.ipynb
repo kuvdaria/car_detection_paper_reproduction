{
 "cells": [
  {
   "cell_type": "code",
   "execution_count": 1,
   "metadata": {},
   "outputs": [],
   "source": [
    "import os\n",
    "import numpy as np\n",
    "import pandas as pd\n",
    "import random"
   ]
  },
  {
   "cell_type": "code",
   "execution_count": 2,
   "metadata": {},
   "outputs": [
    {
     "data": {
      "text/plain": [
       "255"
      ]
     },
     "execution_count": 2,
     "metadata": {},
     "output_type": "execute_result"
    }
   ],
   "source": [
    "*_, lbls = os.walk('labels').__next__()\n",
    "lbls.sort()\n",
    "len(lbls)"
   ]
  },
  {
   "cell_type": "code",
   "execution_count": 3,
   "metadata": {},
   "outputs": [],
   "source": [
    "dataset = []\n",
    "for l in lbls:\n",
    "    with open('labels/'+l) as f:\n",
    "        content = f.readlines()\n",
    "        # you may also want to remove whitespace characters like `\\n` at the end of each line\n",
    "        content = [x.strip() for x in content] \n",
    "        for c in content:\n",
    "            one_car = c.split(\" \")\n",
    "            if one_car[0] == '0':\n",
    "                if l[0] == 'm' or l[0] == 'M':\n",
    "                    l = l[:-3] + 'png'\n",
    "                else:\n",
    "                    l = l[:-3] + 'jpg'\n",
    "                dataset.append([l, 1, 1, 'car',\n",
    "                               float(one_car[1]) - 0.5*float(one_car[3]),\n",
    "                               float(one_car[2]) - 0.5*float(one_car[4]),\n",
    "                               float(one_car[1]) + 0.5*float(one_car[3]),\n",
    "                               float(one_car[2]) + 0.5*float(one_car[4])])"
   ]
  },
  {
   "cell_type": "code",
   "execution_count": 4,
   "metadata": {},
   "outputs": [],
   "source": [
    "columns=['filename', 'width', 'height', 'class', 'xmin', 'ymin', 'xmax', 'ymax']\n",
    "car_labels = pd.DataFrame(dataset, columns=columns)\n",
    "car_labels.to_csv('car_labels.csv', index=False)"
   ]
  },
  {
   "cell_type": "code",
   "execution_count": 5,
   "metadata": {},
   "outputs": [
    {
     "data": {
      "text/html": [
       "<div>\n",
       "<style scoped>\n",
       "    .dataframe tbody tr th:only-of-type {\n",
       "        vertical-align: middle;\n",
       "    }\n",
       "\n",
       "    .dataframe tbody tr th {\n",
       "        vertical-align: top;\n",
       "    }\n",
       "\n",
       "    .dataframe thead th {\n",
       "        text-align: right;\n",
       "    }\n",
       "</style>\n",
       "<table border=\"1\" class=\"dataframe\">\n",
       "  <thead>\n",
       "    <tr style=\"text-align: right;\">\n",
       "      <th></th>\n",
       "      <th>filename</th>\n",
       "      <th>width</th>\n",
       "      <th>height</th>\n",
       "      <th>class</th>\n",
       "      <th>xmin</th>\n",
       "      <th>ymin</th>\n",
       "      <th>xmax</th>\n",
       "      <th>ymax</th>\n",
       "    </tr>\n",
       "  </thead>\n",
       "  <tbody>\n",
       "    <tr>\n",
       "      <th>0</th>\n",
       "      <td>00481.jpg</td>\n",
       "      <td>1</td>\n",
       "      <td>1</td>\n",
       "      <td>car</td>\n",
       "      <td>0.026562</td>\n",
       "      <td>0.029630</td>\n",
       "      <td>0.064583</td>\n",
       "      <td>0.082407</td>\n",
       "    </tr>\n",
       "    <tr>\n",
       "      <th>1</th>\n",
       "      <td>00481.jpg</td>\n",
       "      <td>1</td>\n",
       "      <td>1</td>\n",
       "      <td>car</td>\n",
       "      <td>0.202083</td>\n",
       "      <td>0.655556</td>\n",
       "      <td>0.340104</td>\n",
       "      <td>0.809259</td>\n",
       "    </tr>\n",
       "    <tr>\n",
       "      <th>2</th>\n",
       "      <td>00511.jpg</td>\n",
       "      <td>1</td>\n",
       "      <td>1</td>\n",
       "      <td>car</td>\n",
       "      <td>0.313021</td>\n",
       "      <td>0.265741</td>\n",
       "      <td>0.458854</td>\n",
       "      <td>0.403704</td>\n",
       "    </tr>\n",
       "    <tr>\n",
       "      <th>3</th>\n",
       "      <td>00541.jpg</td>\n",
       "      <td>1</td>\n",
       "      <td>1</td>\n",
       "      <td>car</td>\n",
       "      <td>0.438021</td>\n",
       "      <td>0.208333</td>\n",
       "      <td>0.595312</td>\n",
       "      <td>0.377778</td>\n",
       "    </tr>\n",
       "    <tr>\n",
       "      <th>4</th>\n",
       "      <td>00601.jpg</td>\n",
       "      <td>1</td>\n",
       "      <td>1</td>\n",
       "      <td>car</td>\n",
       "      <td>0.745312</td>\n",
       "      <td>0.545370</td>\n",
       "      <td>0.865104</td>\n",
       "      <td>0.745370</td>\n",
       "    </tr>\n",
       "    <tr>\n",
       "      <th>...</th>\n",
       "      <td>...</td>\n",
       "      <td>...</td>\n",
       "      <td>...</td>\n",
       "      <td>...</td>\n",
       "      <td>...</td>\n",
       "      <td>...</td>\n",
       "      <td>...</td>\n",
       "      <td>...</td>\n",
       "    </tr>\n",
       "    <tr>\n",
       "      <th>4131</th>\n",
       "      <td>harlem-0210.jpg</td>\n",
       "      <td>1</td>\n",
       "      <td>1</td>\n",
       "      <td>car</td>\n",
       "      <td>0.570312</td>\n",
       "      <td>0.736111</td>\n",
       "      <td>0.600781</td>\n",
       "      <td>0.795833</td>\n",
       "    </tr>\n",
       "    <tr>\n",
       "      <th>4132</th>\n",
       "      <td>harlem-0210.jpg</td>\n",
       "      <td>1</td>\n",
       "      <td>1</td>\n",
       "      <td>car</td>\n",
       "      <td>0.264062</td>\n",
       "      <td>0.138889</td>\n",
       "      <td>0.290625</td>\n",
       "      <td>0.193056</td>\n",
       "    </tr>\n",
       "    <tr>\n",
       "      <th>4133</th>\n",
       "      <td>harlem-0210.jpg</td>\n",
       "      <td>1</td>\n",
       "      <td>1</td>\n",
       "      <td>car</td>\n",
       "      <td>0.287500</td>\n",
       "      <td>0.198611</td>\n",
       "      <td>0.318750</td>\n",
       "      <td>0.259722</td>\n",
       "    </tr>\n",
       "    <tr>\n",
       "      <th>4134</th>\n",
       "      <td>harlem-0210.jpg</td>\n",
       "      <td>1</td>\n",
       "      <td>1</td>\n",
       "      <td>car</td>\n",
       "      <td>0.617188</td>\n",
       "      <td>0.195833</td>\n",
       "      <td>0.646875</td>\n",
       "      <td>0.248611</td>\n",
       "    </tr>\n",
       "    <tr>\n",
       "      <th>4135</th>\n",
       "      <td>harlem-0210.jpg</td>\n",
       "      <td>1</td>\n",
       "      <td>1</td>\n",
       "      <td>car</td>\n",
       "      <td>0.641406</td>\n",
       "      <td>0.001389</td>\n",
       "      <td>0.678906</td>\n",
       "      <td>0.044444</td>\n",
       "    </tr>\n",
       "  </tbody>\n",
       "</table>\n",
       "<p>4136 rows × 8 columns</p>\n",
       "</div>"
      ],
      "text/plain": [
       "             filename  width  height class      xmin      ymin      xmax  \\\n",
       "0           00481.jpg      1       1   car  0.026562  0.029630  0.064583   \n",
       "1           00481.jpg      1       1   car  0.202083  0.655556  0.340104   \n",
       "2           00511.jpg      1       1   car  0.313021  0.265741  0.458854   \n",
       "3           00541.jpg      1       1   car  0.438021  0.208333  0.595312   \n",
       "4           00601.jpg      1       1   car  0.745312  0.545370  0.865104   \n",
       "...               ...    ...     ...   ...       ...       ...       ...   \n",
       "4131  harlem-0210.jpg      1       1   car  0.570312  0.736111  0.600781   \n",
       "4132  harlem-0210.jpg      1       1   car  0.264062  0.138889  0.290625   \n",
       "4133  harlem-0210.jpg      1       1   car  0.287500  0.198611  0.318750   \n",
       "4134  harlem-0210.jpg      1       1   car  0.617188  0.195833  0.646875   \n",
       "4135  harlem-0210.jpg      1       1   car  0.641406  0.001389  0.678906   \n",
       "\n",
       "          ymax  \n",
       "0     0.082407  \n",
       "1     0.809259  \n",
       "2     0.403704  \n",
       "3     0.377778  \n",
       "4     0.745370  \n",
       "...        ...  \n",
       "4131  0.795833  \n",
       "4132  0.193056  \n",
       "4133  0.259722  \n",
       "4134  0.248611  \n",
       "4135  0.044444  \n",
       "\n",
       "[4136 rows x 8 columns]"
      ]
     },
     "execution_count": 5,
     "metadata": {},
     "output_type": "execute_result"
    }
   ],
   "source": [
    "car_labels"
   ]
  },
  {
   "cell_type": "code",
   "execution_count": 6,
   "metadata": {},
   "outputs": [],
   "source": [
    "random.shuffle(lbls)\n",
    "\n",
    "train_data = lbls[:204]\n",
    "train_data.sort()\n",
    "train_data = [train_data[i][:-4] for i in range(len(train_data))]\n",
    "test_data = lbls[204:]\n",
    "test_data.sort()\n",
    "test_data = [test_data[i][:-4] for i in range(len(test_data))]"
   ]
  },
  {
   "cell_type": "code",
   "execution_count": 7,
   "metadata": {},
   "outputs": [
    {
     "data": {
      "text/plain": [
       "204"
      ]
     },
     "execution_count": 7,
     "metadata": {},
     "output_type": "execute_result"
    }
   ],
   "source": [
    "len(train_data)"
   ]
  },
  {
   "cell_type": "code",
   "execution_count": 8,
   "metadata": {},
   "outputs": [
    {
     "data": {
      "text/plain": [
       "51"
      ]
     },
     "execution_count": 8,
     "metadata": {},
     "output_type": "execute_result"
    }
   ],
   "source": [
    "len(test_data)"
   ]
  },
  {
   "cell_type": "code",
   "execution_count": 9,
   "metadata": {},
   "outputs": [],
   "source": [
    "test_labels = [dataset[i] for i in range(len(dataset)) if dataset[i][0][:-4] in test_data]"
   ]
  },
  {
   "cell_type": "code",
   "execution_count": 10,
   "metadata": {},
   "outputs": [],
   "source": [
    "train_labels = [dataset[i] for i in range(len(dataset)) if dataset[i][0][:-4] in train_data]"
   ]
  },
  {
   "cell_type": "code",
   "execution_count": 11,
   "metadata": {},
   "outputs": [
    {
     "data": {
      "text/plain": [
       "828"
      ]
     },
     "execution_count": 11,
     "metadata": {},
     "output_type": "execute_result"
    }
   ],
   "source": [
    "len(test_labels)"
   ]
  },
  {
   "cell_type": "code",
   "execution_count": 12,
   "metadata": {},
   "outputs": [
    {
     "data": {
      "text/plain": [
       "3308"
      ]
     },
     "execution_count": 12,
     "metadata": {},
     "output_type": "execute_result"
    }
   ],
   "source": [
    "len(train_labels)"
   ]
  },
  {
   "cell_type": "code",
   "execution_count": 13,
   "metadata": {},
   "outputs": [],
   "source": [
    "test_labels = pd.DataFrame(test_labels, columns=columns)\n",
    "test_labels.to_csv('test_labels.csv', index=False)\n",
    "train_labels = pd.DataFrame(train_labels, columns=columns)\n",
    "train_labels.to_csv('train_labels.csv', index=False)"
   ]
  },
  {
   "cell_type": "code",
   "execution_count": 14,
   "metadata": {},
   "outputs": [
    {
     "data": {
      "text/html": [
       "<div>\n",
       "<style scoped>\n",
       "    .dataframe tbody tr th:only-of-type {\n",
       "        vertical-align: middle;\n",
       "    }\n",
       "\n",
       "    .dataframe tbody tr th {\n",
       "        vertical-align: top;\n",
       "    }\n",
       "\n",
       "    .dataframe thead th {\n",
       "        text-align: right;\n",
       "    }\n",
       "</style>\n",
       "<table border=\"1\" class=\"dataframe\">\n",
       "  <thead>\n",
       "    <tr style=\"text-align: right;\">\n",
       "      <th></th>\n",
       "      <th>filename</th>\n",
       "      <th>width</th>\n",
       "      <th>height</th>\n",
       "      <th>class</th>\n",
       "      <th>xmin</th>\n",
       "      <th>ymin</th>\n",
       "      <th>xmax</th>\n",
       "      <th>ymax</th>\n",
       "    </tr>\n",
       "  </thead>\n",
       "  <tbody>\n",
       "    <tr>\n",
       "      <th>0</th>\n",
       "      <td>00511.jpg</td>\n",
       "      <td>1</td>\n",
       "      <td>1</td>\n",
       "      <td>car</td>\n",
       "      <td>0.313021</td>\n",
       "      <td>0.265741</td>\n",
       "      <td>0.458854</td>\n",
       "      <td>0.403704</td>\n",
       "    </tr>\n",
       "    <tr>\n",
       "      <th>1</th>\n",
       "      <td>00541.jpg</td>\n",
       "      <td>1</td>\n",
       "      <td>1</td>\n",
       "      <td>car</td>\n",
       "      <td>0.438021</td>\n",
       "      <td>0.208333</td>\n",
       "      <td>0.595312</td>\n",
       "      <td>0.377778</td>\n",
       "    </tr>\n",
       "    <tr>\n",
       "      <th>2</th>\n",
       "      <td>00601.jpg</td>\n",
       "      <td>1</td>\n",
       "      <td>1</td>\n",
       "      <td>car</td>\n",
       "      <td>0.745312</td>\n",
       "      <td>0.545370</td>\n",
       "      <td>0.865104</td>\n",
       "      <td>0.745370</td>\n",
       "    </tr>\n",
       "    <tr>\n",
       "      <th>3</th>\n",
       "      <td>00691.jpg</td>\n",
       "      <td>1</td>\n",
       "      <td>1</td>\n",
       "      <td>car</td>\n",
       "      <td>0.168750</td>\n",
       "      <td>0.075000</td>\n",
       "      <td>0.284375</td>\n",
       "      <td>0.306481</td>\n",
       "    </tr>\n",
       "    <tr>\n",
       "      <th>4</th>\n",
       "      <td>00721.jpg</td>\n",
       "      <td>1</td>\n",
       "      <td>1</td>\n",
       "      <td>car</td>\n",
       "      <td>0.204167</td>\n",
       "      <td>0.418519</td>\n",
       "      <td>0.278646</td>\n",
       "      <td>0.673148</td>\n",
       "    </tr>\n",
       "    <tr>\n",
       "      <th>...</th>\n",
       "      <td>...</td>\n",
       "      <td>...</td>\n",
       "      <td>...</td>\n",
       "      <td>...</td>\n",
       "      <td>...</td>\n",
       "      <td>...</td>\n",
       "      <td>...</td>\n",
       "      <td>...</td>\n",
       "    </tr>\n",
       "    <tr>\n",
       "      <th>3303</th>\n",
       "      <td>harlem-0210.jpg</td>\n",
       "      <td>1</td>\n",
       "      <td>1</td>\n",
       "      <td>car</td>\n",
       "      <td>0.570312</td>\n",
       "      <td>0.736111</td>\n",
       "      <td>0.600781</td>\n",
       "      <td>0.795833</td>\n",
       "    </tr>\n",
       "    <tr>\n",
       "      <th>3304</th>\n",
       "      <td>harlem-0210.jpg</td>\n",
       "      <td>1</td>\n",
       "      <td>1</td>\n",
       "      <td>car</td>\n",
       "      <td>0.264062</td>\n",
       "      <td>0.138889</td>\n",
       "      <td>0.290625</td>\n",
       "      <td>0.193056</td>\n",
       "    </tr>\n",
       "    <tr>\n",
       "      <th>3305</th>\n",
       "      <td>harlem-0210.jpg</td>\n",
       "      <td>1</td>\n",
       "      <td>1</td>\n",
       "      <td>car</td>\n",
       "      <td>0.287500</td>\n",
       "      <td>0.198611</td>\n",
       "      <td>0.318750</td>\n",
       "      <td>0.259722</td>\n",
       "    </tr>\n",
       "    <tr>\n",
       "      <th>3306</th>\n",
       "      <td>harlem-0210.jpg</td>\n",
       "      <td>1</td>\n",
       "      <td>1</td>\n",
       "      <td>car</td>\n",
       "      <td>0.617188</td>\n",
       "      <td>0.195833</td>\n",
       "      <td>0.646875</td>\n",
       "      <td>0.248611</td>\n",
       "    </tr>\n",
       "    <tr>\n",
       "      <th>3307</th>\n",
       "      <td>harlem-0210.jpg</td>\n",
       "      <td>1</td>\n",
       "      <td>1</td>\n",
       "      <td>car</td>\n",
       "      <td>0.641406</td>\n",
       "      <td>0.001389</td>\n",
       "      <td>0.678906</td>\n",
       "      <td>0.044444</td>\n",
       "    </tr>\n",
       "  </tbody>\n",
       "</table>\n",
       "<p>3308 rows × 8 columns</p>\n",
       "</div>"
      ],
      "text/plain": [
       "             filename  width  height class      xmin      ymin      xmax  \\\n",
       "0           00511.jpg      1       1   car  0.313021  0.265741  0.458854   \n",
       "1           00541.jpg      1       1   car  0.438021  0.208333  0.595312   \n",
       "2           00601.jpg      1       1   car  0.745312  0.545370  0.865104   \n",
       "3           00691.jpg      1       1   car  0.168750  0.075000  0.284375   \n",
       "4           00721.jpg      1       1   car  0.204167  0.418519  0.278646   \n",
       "...               ...    ...     ...   ...       ...       ...       ...   \n",
       "3303  harlem-0210.jpg      1       1   car  0.570312  0.736111  0.600781   \n",
       "3304  harlem-0210.jpg      1       1   car  0.264062  0.138889  0.290625   \n",
       "3305  harlem-0210.jpg      1       1   car  0.287500  0.198611  0.318750   \n",
       "3306  harlem-0210.jpg      1       1   car  0.617188  0.195833  0.646875   \n",
       "3307  harlem-0210.jpg      1       1   car  0.641406  0.001389  0.678906   \n",
       "\n",
       "          ymax  \n",
       "0     0.403704  \n",
       "1     0.377778  \n",
       "2     0.745370  \n",
       "3     0.306481  \n",
       "4     0.673148  \n",
       "...        ...  \n",
       "3303  0.795833  \n",
       "3304  0.193056  \n",
       "3305  0.259722  \n",
       "3306  0.248611  \n",
       "3307  0.044444  \n",
       "\n",
       "[3308 rows x 8 columns]"
      ]
     },
     "execution_count": 14,
     "metadata": {},
     "output_type": "execute_result"
    }
   ],
   "source": [
    "train_labels"
   ]
  }
 ],
 "metadata": {
  "kernelspec": {
   "display_name": "Python 3",
   "language": "python",
   "name": "python3"
  },
  "language_info": {
   "codemirror_mode": {
    "name": "ipython",
    "version": 3
   },
   "file_extension": ".py",
   "mimetype": "text/x-python",
   "name": "python",
   "nbconvert_exporter": "python",
   "pygments_lexer": "ipython3",
   "version": "3.7.3"
  }
 },
 "nbformat": 4,
 "nbformat_minor": 2
}
